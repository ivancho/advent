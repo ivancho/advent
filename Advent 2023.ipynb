{
 "cells": [
  {
   "cell_type": "code",
   "execution_count": 1,
   "id": "5e35b87f",
   "metadata": {},
   "outputs": [],
   "source": [
    "IN1 = !cat aoc/2023/day1"
   ]
  },
  {
   "cell_type": "code",
   "execution_count": 2,
   "id": "c6b87b11",
   "metadata": {},
   "outputs": [
    {
     "data": {
      "text/plain": [
       "(55090, 54845)"
      ]
     },
     "execution_count": 2,
     "metadata": {},
     "output_type": "execute_result"
    }
   ],
   "source": [
    "digits = lambda s: [(i, c) for i, c in enumerate(s) if str.isdigit(c)]\n",
    "first_and_last = lambda a: (a[0][1], a[-1][1])\n",
    "get_num = lambda ds: int(\"\".join(first_and_last(ds)))\n",
    "\n",
    "ans1 = sum(get_num(digits(s)) for s in IN1)\n",
    "\n",
    "########################################\n",
    "\n",
    "ws = {\"one\": \"1\", \"two\": \"2\", \"three\": \"3\", \"four\": \"4\", \"five\": \"5\", \"six\": \"6\", \"seven\": \"7\", \"eight\": \"8\", \"nine\" : \"9\"}\n",
    "\n",
    "def unword(s, items): \n",
    "    for it in items:\n",
    "        s = s.replace(*it)\n",
    "    return digits(s)\n",
    "\n",
    "# No digit word can overlap with itself, so the first and last word\n",
    "# will be unharmed in at least one of the replacement directions\n",
    "digits_both_ways = lambda s: sorted(unword(s, ws.items()) + unword(s, reversed(ws.items())))\n",
    "\n",
    "ans2 = sum(get_num(digits_both_ways(s)) for s in IN1)\n",
    "\n",
    "ans1, ans2"
   ]
  },
  {
   "cell_type": "code",
   "execution_count": 3,
   "id": "696188f4",
   "metadata": {},
   "outputs": [],
   "source": [
    "IN2 = !cat aoc/2023/day2\n",
    "IN2 = [r.split(\": \")[1] for r in IN2]"
   ]
  },
  {
   "cell_type": "code",
   "execution_count": 4,
   "id": "749bd37b",
   "metadata": {},
   "outputs": [
    {
     "ename": "NameError",
     "evalue": "name 'reduce' is not defined",
     "output_type": "error",
     "traceback": [
      "\u001b[0;31m---------------------------------------------------------------------------\u001b[0m",
      "\u001b[0;31mNameError\u001b[0m                                 Traceback (most recent call last)",
      "\u001b[0;32m/var/folders/n6/9cc0szhd2yb_6sj88rsn02yw0000gn/T/ipykernel_4992/3184511680.py\u001b[0m in \u001b[0;36m<module>\u001b[0;34m\u001b[0m\n\u001b[1;32m     13\u001b[0m \u001b[0mpower\u001b[0m \u001b[0;34m=\u001b[0m \u001b[0;32mlambda\u001b[0m \u001b[0mv\u001b[0m\u001b[0;34m:\u001b[0m \u001b[0mreduce\u001b[0m\u001b[0;34m(\u001b[0m\u001b[0mmul\u001b[0m\u001b[0;34m,\u001b[0m \u001b[0mv\u001b[0m\u001b[0;34m,\u001b[0m \u001b[0;36m1\u001b[0m\u001b[0;34m)\u001b[0m\u001b[0;34m\u001b[0m\u001b[0;34m\u001b[0m\u001b[0m\n\u001b[1;32m     14\u001b[0m \u001b[0;34m\u001b[0m\u001b[0m\n\u001b[0;32m---> 15\u001b[0;31m \u001b[0mans2\u001b[0m \u001b[0;34m=\u001b[0m \u001b[0msum\u001b[0m\u001b[0;34m(\u001b[0m\u001b[0mpower\u001b[0m\u001b[0;34m(\u001b[0m\u001b[0mmaxv\u001b[0m\u001b[0;34m(\u001b[0m\u001b[0mgames\u001b[0m\u001b[0;34m(\u001b[0m\u001b[0mr\u001b[0m\u001b[0;34m)\u001b[0m\u001b[0;34m)\u001b[0m\u001b[0;34m)\u001b[0m \u001b[0;32mfor\u001b[0m \u001b[0mr\u001b[0m \u001b[0;32min\u001b[0m \u001b[0mIN2\u001b[0m\u001b[0;34m)\u001b[0m\u001b[0;34m\u001b[0m\u001b[0;34m\u001b[0m\u001b[0m\n\u001b[0m\u001b[1;32m     16\u001b[0m \u001b[0;34m\u001b[0m\u001b[0m\n\u001b[1;32m     17\u001b[0m \u001b[0mans1\u001b[0m\u001b[0;34m,\u001b[0m \u001b[0mans2\u001b[0m\u001b[0;34m\u001b[0m\u001b[0;34m\u001b[0m\u001b[0m\n",
      "\u001b[0;32m/var/folders/n6/9cc0szhd2yb_6sj88rsn02yw0000gn/T/ipykernel_4992/3184511680.py\u001b[0m in \u001b[0;36m<genexpr>\u001b[0;34m(.0)\u001b[0m\n\u001b[1;32m     13\u001b[0m \u001b[0mpower\u001b[0m \u001b[0;34m=\u001b[0m \u001b[0;32mlambda\u001b[0m \u001b[0mv\u001b[0m\u001b[0;34m:\u001b[0m \u001b[0mreduce\u001b[0m\u001b[0;34m(\u001b[0m\u001b[0mmul\u001b[0m\u001b[0;34m,\u001b[0m \u001b[0mv\u001b[0m\u001b[0;34m,\u001b[0m \u001b[0;36m1\u001b[0m\u001b[0;34m)\u001b[0m\u001b[0;34m\u001b[0m\u001b[0;34m\u001b[0m\u001b[0m\n\u001b[1;32m     14\u001b[0m \u001b[0;34m\u001b[0m\u001b[0m\n\u001b[0;32m---> 15\u001b[0;31m \u001b[0mans2\u001b[0m \u001b[0;34m=\u001b[0m \u001b[0msum\u001b[0m\u001b[0;34m(\u001b[0m\u001b[0mpower\u001b[0m\u001b[0;34m(\u001b[0m\u001b[0mmaxv\u001b[0m\u001b[0;34m(\u001b[0m\u001b[0mgames\u001b[0m\u001b[0;34m(\u001b[0m\u001b[0mr\u001b[0m\u001b[0;34m)\u001b[0m\u001b[0;34m)\u001b[0m\u001b[0;34m)\u001b[0m \u001b[0;32mfor\u001b[0m \u001b[0mr\u001b[0m \u001b[0;32min\u001b[0m \u001b[0mIN2\u001b[0m\u001b[0;34m)\u001b[0m\u001b[0;34m\u001b[0m\u001b[0;34m\u001b[0m\u001b[0m\n\u001b[0m\u001b[1;32m     16\u001b[0m \u001b[0;34m\u001b[0m\u001b[0m\n\u001b[1;32m     17\u001b[0m \u001b[0mans1\u001b[0m\u001b[0;34m,\u001b[0m \u001b[0mans2\u001b[0m\u001b[0;34m\u001b[0m\u001b[0;34m\u001b[0m\u001b[0m\n",
      "\u001b[0;32m/var/folders/n6/9cc0szhd2yb_6sj88rsn02yw0000gn/T/ipykernel_4992/3184511680.py\u001b[0m in \u001b[0;36m<lambda>\u001b[0;34m(v)\u001b[0m\n\u001b[1;32m     11\u001b[0m \u001b[0;31m########################################\u001b[0m\u001b[0;34m\u001b[0m\u001b[0;34m\u001b[0m\u001b[0m\n\u001b[1;32m     12\u001b[0m \u001b[0;34m\u001b[0m\u001b[0m\n\u001b[0;32m---> 13\u001b[0;31m \u001b[0mpower\u001b[0m \u001b[0;34m=\u001b[0m \u001b[0;32mlambda\u001b[0m \u001b[0mv\u001b[0m\u001b[0;34m:\u001b[0m \u001b[0mreduce\u001b[0m\u001b[0;34m(\u001b[0m\u001b[0mmul\u001b[0m\u001b[0;34m,\u001b[0m \u001b[0mv\u001b[0m\u001b[0;34m,\u001b[0m \u001b[0;36m1\u001b[0m\u001b[0;34m)\u001b[0m\u001b[0;34m\u001b[0m\u001b[0;34m\u001b[0m\u001b[0m\n\u001b[0m\u001b[1;32m     14\u001b[0m \u001b[0;34m\u001b[0m\u001b[0m\n\u001b[1;32m     15\u001b[0m \u001b[0mans2\u001b[0m \u001b[0;34m=\u001b[0m \u001b[0msum\u001b[0m\u001b[0;34m(\u001b[0m\u001b[0mpower\u001b[0m\u001b[0;34m(\u001b[0m\u001b[0mmaxv\u001b[0m\u001b[0;34m(\u001b[0m\u001b[0mgames\u001b[0m\u001b[0;34m(\u001b[0m\u001b[0mr\u001b[0m\u001b[0;34m)\u001b[0m\u001b[0;34m)\u001b[0m\u001b[0;34m)\u001b[0m \u001b[0;32mfor\u001b[0m \u001b[0mr\u001b[0m \u001b[0;32min\u001b[0m \u001b[0mIN2\u001b[0m\u001b[0;34m)\u001b[0m\u001b[0;34m\u001b[0m\u001b[0;34m\u001b[0m\u001b[0m\n",
      "\u001b[0;31mNameError\u001b[0m: name 'reduce' is not defined"
     ]
    }
   ],
   "source": [
    "from operator import mul, le\n",
    "\n",
    "BAG = {\"red\": 12, \"green\": 13, \"blue\": 14}\n",
    "\n",
    "games = lambda r: [dict(reversed(x.split(\" \")) for x in ii.strip().split(\", \")) for ii in r.split(\";\")]\n",
    "vals = lambda g: [int(g.get(col, 0)) for col in BAG]\n",
    "maxv = lambda gs: map(max, *map(vals, gs))\n",
    "\n",
    "ans1 = sum((i+1) for i, r in enumerate(IN2) if all(map(le, maxv(games(r)), vals(BAG))))\n",
    "\n",
    "########################################\n",
    "\n",
    "power = lambda v: reduce(mul, v, 1)\n",
    "\n",
    "ans2 = sum(power(maxv(games(r))) for r in IN2)\n",
    "\n",
    "ans1, ans2"
   ]
  },
  {
   "cell_type": "code",
   "execution_count": 5,
   "id": "7f6c0a48",
   "metadata": {},
   "outputs": [],
   "source": [
    "IN3 = !cat aoc/2023/day3"
   ]
  },
  {
   "cell_type": "code",
   "execution_count": 6,
   "id": "d7499720",
   "metadata": {},
   "outputs": [
    {
     "data": {
      "text/plain": [
       "(520019, 75519888)"
      ]
     },
     "execution_count": 6,
     "metadata": {},
     "output_type": "execute_result"
    }
   ],
   "source": [
    "import re\n",
    "\n",
    "M, N = len(IN3), len(IN3[0])\n",
    "board = [(i, j) for i in range(M) for j in range(N)]\n",
    "x3x3 = lambda p: [(p[0]+x, p[1]+y) for x in [-1, 0, 1] for y in [-1, 0, 1]]\n",
    "val = lambda p: IN3[p[0]][p[1]]\n",
    "\n",
    "valid = lambda cs: (0, 0) <= cs <= (M-1, N-1)\n",
    "\n",
    "neighb = lambda p: {q for q in x3x3(p) if valid(q)}\n",
    "fig_neighb = lambda fig: set.union(*[neighb(p) for p in fig])\n",
    "\n",
    "all_sym = {p for p in board if val(p) not in \"0123456789.\"}\n",
    "\n",
    "row_nums = lambda r: [(range(*m.span()), m.group()) for m in re.finditer(\"([0-9]+)\", r)]\n",
    "row_neighbs = lambda i, r: [(num, fig_neighb((i, j) for j in span)) for span, num in row_nums(r)]\n",
    "all_nums = sum([row_neighbs(i, r) for i, r in enumerate(IN3)], [])\n",
    "\n",
    "ans1 = sum(int(n) for n, nb in all_nums if nb & all_sym)\n",
    "\n",
    "########################################\n",
    "\n",
    "all_gears = {p for p in board if val(p) == \"*\"}\n",
    "gear_nums = [[int(n) for n, nb in all_nums if p in nb] for p in all_gears]\n",
    "\n",
    "ans2 = sum(v[0]*v[1] for v in gear_nums if len(v) == 2)\n",
    "                \n",
    "ans1, ans2            "
   ]
  },
  {
   "cell_type": "code",
   "execution_count": 7,
   "id": "f2484c20",
   "metadata": {},
   "outputs": [],
   "source": [
    "IN4 = !cat aoc/2023/day4"
   ]
  },
  {
   "cell_type": "code",
   "execution_count": 8,
   "id": "fbf86f61",
   "metadata": {},
   "outputs": [
    {
     "ename": "NameError",
     "evalue": "name 'cards' is not defined",
     "output_type": "error",
     "traceback": [
      "\u001b[0;31m---------------------------------------------------------------------------\u001b[0m",
      "\u001b[0;31mNameError\u001b[0m                                 Traceback (most recent call last)",
      "\u001b[0;32m/var/folders/n6/9cc0szhd2yb_6sj88rsn02yw0000gn/T/ipykernel_4992/1004015722.py\u001b[0m in \u001b[0;36m<module>\u001b[0;34m\u001b[0m\n\u001b[1;32m      1\u001b[0m \u001b[0mards\u001b[0m \u001b[0;34m=\u001b[0m \u001b[0;34m[\u001b[0m\u001b[0;34m[\u001b[0m\u001b[0mset\u001b[0m\u001b[0;34m(\u001b[0m\u001b[0ms\u001b[0m\u001b[0;34m.\u001b[0m\u001b[0msplit\u001b[0m\u001b[0;34m(\u001b[0m\u001b[0;34m)\u001b[0m\u001b[0;34m)\u001b[0m \u001b[0;32mfor\u001b[0m \u001b[0ms\u001b[0m \u001b[0;32min\u001b[0m \u001b[0mr\u001b[0m\u001b[0;34m.\u001b[0m\u001b[0msplit\u001b[0m\u001b[0;34m(\u001b[0m\u001b[0;34m\"|\"\u001b[0m\u001b[0;34m)\u001b[0m\u001b[0;34m]\u001b[0m \u001b[0;32mfor\u001b[0m \u001b[0mr\u001b[0m \u001b[0;32min\u001b[0m \u001b[0mIN4\u001b[0m\u001b[0;34m]\u001b[0m\u001b[0;34m\u001b[0m\u001b[0;34m\u001b[0m\u001b[0m\n\u001b[0;32m----> 2\u001b[0;31m \u001b[0mcounts\u001b[0m \u001b[0;34m=\u001b[0m \u001b[0;34m[\u001b[0m\u001b[0mlen\u001b[0m\u001b[0;34m(\u001b[0m\u001b[0mw\u001b[0m \u001b[0;34m&\u001b[0m \u001b[0mn\u001b[0m\u001b[0;34m)\u001b[0m \u001b[0;32mfor\u001b[0m \u001b[0mw\u001b[0m\u001b[0;34m,\u001b[0m \u001b[0mn\u001b[0m \u001b[0;32min\u001b[0m \u001b[0mcards\u001b[0m\u001b[0;34m]\u001b[0m\u001b[0;34m\u001b[0m\u001b[0;34m\u001b[0m\u001b[0m\n\u001b[0m\u001b[1;32m      3\u001b[0m \u001b[0;34m\u001b[0m\u001b[0m\n\u001b[1;32m      4\u001b[0m \u001b[0mans1\u001b[0m \u001b[0;34m=\u001b[0m \u001b[0msum\u001b[0m\u001b[0;34m(\u001b[0m\u001b[0mint\u001b[0m\u001b[0;34m(\u001b[0m\u001b[0;36m2\u001b[0m\u001b[0;34m**\u001b[0m\u001b[0;34m(\u001b[0m\u001b[0mc\u001b[0m\u001b[0;34m-\u001b[0m\u001b[0;36m1\u001b[0m\u001b[0;34m)\u001b[0m\u001b[0;34m)\u001b[0m \u001b[0;32mfor\u001b[0m \u001b[0mc\u001b[0m \u001b[0;32min\u001b[0m \u001b[0mcounts\u001b[0m\u001b[0;34m)\u001b[0m\u001b[0;34m\u001b[0m\u001b[0;34m\u001b[0m\u001b[0m\n\u001b[1;32m      5\u001b[0m \u001b[0;34m\u001b[0m\u001b[0m\n",
      "\u001b[0;31mNameError\u001b[0m: name 'cards' is not defined"
     ]
    }
   ],
   "source": [
    "ards = [[set(s.split()) for s in r.split(\"|\")] for r in IN4]\n",
    "counts = [len(w & n) for w, n in cards]\n",
    "\n",
    "ans1 = sum(int(2**(c-1)) for c in counts)\n",
    "\n",
    "########################################\n",
    "\n",
    "from functools import reduce\n",
    "\n",
    "ncopy = lambda its: 1 + sum(it.pop() for it in its if it)\n",
    "win = lambda t, c: [t[0] + (won:=ncopy(t[1])), t[1] + [[won]*c]]\n",
    "\n",
    "ans2 = reduce(win, counts, (0, []))[0]\n",
    "\n",
    "ans1, ans2"
   ]
  },
  {
   "cell_type": "code",
   "execution_count": 9,
   "id": "23ae73f9",
   "metadata": {},
   "outputs": [],
   "source": [
    "IN5 = !cat aoc/2023/day5"
   ]
  },
  {
   "cell_type": "code",
   "execution_count": 10,
   "id": "4176dc7e",
   "metadata": {},
   "outputs": [
    {
     "data": {
      "text/plain": [
       "(51752125, 12634632)"
      ]
     },
     "execution_count": 10,
     "metadata": {},
     "output_type": "execute_result"
    }
   ],
   "source": [
    "from itertools import groupby\n",
    "from functools import reduce\n",
    "\n",
    "seeds = [int(x) for x in IN5[0].split()[1:]]\n",
    "\n",
    "parse_map = lambda g: [[int(x) for x in s.split()] for s in list(g)[1:]]\n",
    "maps = [parse_map(g) for k, g in groupby(IN5[2:], key=bool) if k]\n",
    "\n",
    "in_range = lambda r, x: r[0] <= x < r[0]+r[-1]\n",
    "fwd_map  = lambda p, m: next((p-r[1]+r[0] for r in m if in_range(r[1:], p)), p)\n",
    "fwd_list = lambda ps, m: [fwd_map(p, m) for p in ps]\n",
    "end_pos  = lambda ps: reduce(fwd_list, maps, ps)\n",
    "\n",
    "ans1 = min(end_pos(seeds))\n",
    "\n",
    "########################################\n",
    "\n",
    "back_map = lambda p, m: next((p-r[0]+r[1] for r in m if in_range(r, p)), p)\n",
    "back_list = lambda ps, m: [back_map(p, m) for p in ps]\n",
    "\n",
    "# There's probably some better dynamic programming algo.\n",
    "# The main insight is that for a given starting range,\n",
    "# the minimum will be achieved either at its starting point,\n",
    "# or at one of the starting points of the intermediate map ranges.\n",
    "# So we pull all starting points back to the seed level,\n",
    "# and then check en masse for their ending positions.\n",
    "\n",
    "map_starts = lambda m: [r[1] for r in m]\n",
    "pull = lambda prev_starts, m: back_list(prev_starts, m) + map_starts(m)\n",
    "\n",
    "pre_starts = reduce(pull, reversed(maps), [])\n",
    "ends = dict(zip(pre_starts, end_pos(pre_starts)))\n",
    "seed_ranges = list(zip(seeds[::2], seeds[1::2]))\n",
    "\n",
    "ends_for_range = lambda r: [ends[s] for s in pre_starts if in_range(r, s)]\n",
    "min_for_range = lambda r: min(end_pos(r) + ends_for_range(r))\n",
    "ans2 = min(min_for_range(r) for r in seed_ranges)\n",
    "\n",
    "ans1, ans2"
   ]
  },
  {
   "cell_type": "code",
   "execution_count": null,
   "id": "4264ff20",
   "metadata": {},
   "outputs": [],
   "source": []
  },
  {
   "cell_type": "code",
   "execution_count": null,
   "id": "93b90064",
   "metadata": {},
   "outputs": [],
   "source": []
  },
  {
   "cell_type": "code",
   "execution_count": null,
   "id": "4f66145e",
   "metadata": {},
   "outputs": [],
   "source": []
  }
 ],
 "metadata": {
  "kernelspec": {
   "display_name": "Python 3 (ipykernel)",
   "language": "python",
   "name": "python3"
  },
  "language_info": {
   "codemirror_mode": {
    "name": "ipython",
    "version": 3
   },
   "file_extension": ".py",
   "mimetype": "text/x-python",
   "name": "python",
   "nbconvert_exporter": "python",
   "pygments_lexer": "ipython3",
   "version": "3.9.17"
  }
 },
 "nbformat": 4,
 "nbformat_minor": 5
}
